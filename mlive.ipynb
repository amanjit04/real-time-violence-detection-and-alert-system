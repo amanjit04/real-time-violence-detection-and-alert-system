{
 "cells": [
  {
   "cell_type": "code",
   "execution_count": 1,
   "id": "61a8f0e1-c7b0-4218-bfd9-82a2d31ed42f",
   "metadata": {},
   "outputs": [
    {
     "name": "stdout",
     "output_type": "stream",
     "text": [
      "Requirement already satisfied: firebase_admin in c:\\users\\manjit kumar\\appdata\\local\\programs\\python\\python312\\lib\\site-packages (6.5.0)\n",
      "Requirement already satisfied: cachecontrol>=0.12.6 in c:\\users\\manjit kumar\\appdata\\local\\programs\\python\\python312\\lib\\site-packages (from firebase_admin) (0.14.0)\n",
      "Requirement already satisfied: google-api-python-client>=1.7.8 in c:\\users\\manjit kumar\\appdata\\local\\programs\\python\\python312\\lib\\site-packages (from firebase_admin) (2.122.0)\n",
      "Requirement already satisfied: google-cloud-storage>=1.37.1 in c:\\users\\manjit kumar\\appdata\\local\\programs\\python\\python312\\lib\\site-packages (from firebase_admin) (2.15.0)\n",
      "Requirement already satisfied: pyjwt>=2.5.0 in c:\\users\\manjit kumar\\appdata\\local\\programs\\python\\python312\\lib\\site-packages (from pyjwt[crypto]>=2.5.0->firebase_admin) (2.8.0)\n",
      "Requirement already satisfied: google-api-core<3.0.0dev,>=1.22.1 in c:\\users\\manjit kumar\\appdata\\local\\programs\\python\\python312\\lib\\site-packages (from google-api-core[grpc]<3.0.0dev,>=1.22.1; platform_python_implementation != \"PyPy\"->firebase_admin) (2.17.1)\n",
      "Requirement already satisfied: google-cloud-firestore>=2.9.1 in c:\\users\\manjit kumar\\appdata\\local\\programs\\python\\python312\\lib\\site-packages (from firebase_admin) (2.15.0)\n",
      "Requirement already satisfied: requests>=2.16.0 in c:\\users\\manjit kumar\\appdata\\local\\programs\\python\\python312\\lib\\site-packages (from cachecontrol>=0.12.6->firebase_admin) (2.31.0)\n",
      "Requirement already satisfied: msgpack<2.0.0,>=0.5.2 in c:\\users\\manjit kumar\\appdata\\local\\programs\\python\\python312\\lib\\site-packages (from cachecontrol>=0.12.6->firebase_admin) (1.0.8)\n",
      "Requirement already satisfied: googleapis-common-protos<2.0.dev0,>=1.56.2 in c:\\users\\manjit kumar\\appdata\\local\\programs\\python\\python312\\lib\\site-packages (from google-api-core<3.0.0dev,>=1.22.1->google-api-core[grpc]<3.0.0dev,>=1.22.1; platform_python_implementation != \"PyPy\"->firebase_admin) (1.62.0)\n",
      "Requirement already satisfied: protobuf!=3.20.0,!=3.20.1,!=4.21.0,!=4.21.1,!=4.21.2,!=4.21.3,!=4.21.4,!=4.21.5,<5.0.0.dev0,>=3.19.5 in c:\\users\\manjit kumar\\appdata\\local\\programs\\python\\python312\\lib\\site-packages (from google-api-core<3.0.0dev,>=1.22.1->google-api-core[grpc]<3.0.0dev,>=1.22.1; platform_python_implementation != \"PyPy\"->firebase_admin) (4.25.3)\n",
      "Requirement already satisfied: google-auth<3.0.dev0,>=2.14.1 in c:\\users\\manjit kumar\\appdata\\local\\programs\\python\\python312\\lib\\site-packages (from google-api-core<3.0.0dev,>=1.22.1->google-api-core[grpc]<3.0.0dev,>=1.22.1; platform_python_implementation != \"PyPy\"->firebase_admin) (2.28.2)\n",
      "Requirement already satisfied: grpcio<2.0dev,>=1.33.2 in c:\\users\\manjit kumar\\appdata\\local\\programs\\python\\python312\\lib\\site-packages (from google-api-core[grpc]<3.0.0dev,>=1.22.1; platform_python_implementation != \"PyPy\"->firebase_admin) (1.62.1)\n",
      "Requirement already satisfied: grpcio-status<2.0.dev0,>=1.33.2 in c:\\users\\manjit kumar\\appdata\\local\\programs\\python\\python312\\lib\\site-packages (from google-api-core[grpc]<3.0.0dev,>=1.22.1; platform_python_implementation != \"PyPy\"->firebase_admin) (1.62.1)\n",
      "Requirement already satisfied: httplib2<1.dev0,>=0.15.0 in c:\\users\\manjit kumar\\appdata\\local\\programs\\python\\python312\\lib\\site-packages (from google-api-python-client>=1.7.8->firebase_admin) (0.22.0)\n",
      "Requirement already satisfied: google-auth-httplib2>=0.1.0 in c:\\users\\manjit kumar\\appdata\\local\\programs\\python\\python312\\lib\\site-packages (from google-api-python-client>=1.7.8->firebase_admin) (0.2.0)\n",
      "Requirement already satisfied: uritemplate<5,>=3.0.1 in c:\\users\\manjit kumar\\appdata\\local\\programs\\python\\python312\\lib\\site-packages (from google-api-python-client>=1.7.8->firebase_admin) (4.1.1)\n",
      "Requirement already satisfied: google-cloud-core<3.0.0dev,>=1.4.1 in c:\\users\\manjit kumar\\appdata\\local\\programs\\python\\python312\\lib\\site-packages (from google-cloud-firestore>=2.9.1->firebase_admin) (2.4.1)\n",
      "Requirement already satisfied: proto-plus<2.0.0dev,>=1.22.0 in c:\\users\\manjit kumar\\appdata\\local\\programs\\python\\python312\\lib\\site-packages (from google-cloud-firestore>=2.9.1->firebase_admin) (1.23.0)\n",
      "Requirement already satisfied: google-resumable-media>=2.6.0 in c:\\users\\manjit kumar\\appdata\\local\\programs\\python\\python312\\lib\\site-packages (from google-cloud-storage>=1.37.1->firebase_admin) (2.7.0)\n",
      "Requirement already satisfied: google-crc32c<2.0dev,>=1.0 in c:\\users\\manjit kumar\\appdata\\local\\programs\\python\\python312\\lib\\site-packages (from google-cloud-storage>=1.37.1->firebase_admin) (1.5.0)\n",
      "Requirement already satisfied: cryptography>=3.4.0 in c:\\users\\manjit kumar\\appdata\\local\\programs\\python\\python312\\lib\\site-packages (from pyjwt[crypto]>=2.5.0->firebase_admin) (42.0.5)\n",
      "Requirement already satisfied: cffi>=1.12 in c:\\users\\manjit kumar\\appdata\\local\\programs\\python\\python312\\lib\\site-packages (from cryptography>=3.4.0->pyjwt[crypto]>=2.5.0->firebase_admin) (1.16.0)\n",
      "Requirement already satisfied: cachetools<6.0,>=2.0.0 in c:\\users\\manjit kumar\\appdata\\local\\programs\\python\\python312\\lib\\site-packages (from google-auth<3.0.dev0,>=2.14.1->google-api-core<3.0.0dev,>=1.22.1->google-api-core[grpc]<3.0.0dev,>=1.22.1; platform_python_implementation != \"PyPy\"->firebase_admin) (5.3.3)\n",
      "Requirement already satisfied: pyasn1-modules>=0.2.1 in c:\\users\\manjit kumar\\appdata\\local\\programs\\python\\python312\\lib\\site-packages (from google-auth<3.0.dev0,>=2.14.1->google-api-core<3.0.0dev,>=1.22.1->google-api-core[grpc]<3.0.0dev,>=1.22.1; platform_python_implementation != \"PyPy\"->firebase_admin) (0.3.0)\n",
      "Requirement already satisfied: rsa<5,>=3.1.4 in c:\\users\\manjit kumar\\appdata\\local\\programs\\python\\python312\\lib\\site-packages (from google-auth<3.0.dev0,>=2.14.1->google-api-core<3.0.0dev,>=1.22.1->google-api-core[grpc]<3.0.0dev,>=1.22.1; platform_python_implementation != \"PyPy\"->firebase_admin) (4.9)\n",
      "Requirement already satisfied: pyparsing!=3.0.0,!=3.0.1,!=3.0.2,!=3.0.3,<4,>=2.4.2 in c:\\users\\manjit kumar\\appdata\\local\\programs\\python\\python312\\lib\\site-packages (from httplib2<1.dev0,>=0.15.0->google-api-python-client>=1.7.8->firebase_admin) (3.1.2)\n",
      "Requirement already satisfied: charset-normalizer<4,>=2 in c:\\users\\manjit kumar\\appdata\\local\\programs\\python\\python312\\lib\\site-packages (from requests>=2.16.0->cachecontrol>=0.12.6->firebase_admin) (3.3.2)\n",
      "Requirement already satisfied: idna<4,>=2.5 in c:\\users\\manjit kumar\\appdata\\local\\programs\\python\\python312\\lib\\site-packages (from requests>=2.16.0->cachecontrol>=0.12.6->firebase_admin) (3.6)\n",
      "Requirement already satisfied: urllib3<3,>=1.21.1 in c:\\users\\manjit kumar\\appdata\\local\\programs\\python\\python312\\lib\\site-packages (from requests>=2.16.0->cachecontrol>=0.12.6->firebase_admin) (1.26.18)\n",
      "Requirement already satisfied: certifi>=2017.4.17 in c:\\users\\manjit kumar\\appdata\\local\\programs\\python\\python312\\lib\\site-packages (from requests>=2.16.0->cachecontrol>=0.12.6->firebase_admin) (2024.2.2)\n",
      "Requirement already satisfied: pycparser in c:\\users\\manjit kumar\\appdata\\local\\programs\\python\\python312\\lib\\site-packages (from cffi>=1.12->cryptography>=3.4.0->pyjwt[crypto]>=2.5.0->firebase_admin) (2.21)\n",
      "Requirement already satisfied: pyasn1<0.6.0,>=0.4.6 in c:\\users\\manjit kumar\\appdata\\local\\programs\\python\\python312\\lib\\site-packages (from pyasn1-modules>=0.2.1->google-auth<3.0.dev0,>=2.14.1->google-api-core<3.0.0dev,>=1.22.1->google-api-core[grpc]<3.0.0dev,>=1.22.1; platform_python_implementation != \"PyPy\"->firebase_admin) (0.5.1)\n"
     ]
    }
   ],
   "source": [
    "!pip install firebase_admin"
   ]
  },
  {
   "cell_type": "code",
   "execution_count": 2,
   "id": "c98582b7-b8f4-4cb6-af3a-7272b84f15d1",
   "metadata": {},
   "outputs": [],
   "source": [
    "import cv2\n",
    "import numpy as np\n",
    "import time\n",
    "import geocoder\n",
    "from collections import deque\n",
    "from tensorflow.keras.models import load_model\n",
    "import telepot\n",
    "#from firebase import firebase\n",
    "import cv2\n",
    "import numpy as np\n",
    "from collections import deque\n",
    "from keras.models import load_model\n",
    "import geocoder\n",
    "import time\n",
    "import telepot\n",
    "import firebase_admin\n",
    "from firebase_admin import credentials, db\n",
    "\n",
    "bot = telepot.Bot('6457674371:AAE04wSEIjA4pyEvlYeYgqNQ7H0WgRuTiBg')\n",
    "#db = firebase.FirebaseApplication('https://rvidastech-default-rtdb.firebaseio.com', None)\n"
   ]
  },
  {
   "cell_type": "code",
   "execution_count": 3,
   "id": "e9134cab-40a7-4905-b54c-2160a065b269",
   "metadata": {},
   "outputs": [
    {
     "data": {
      "text/plain": [
       "<firebase_admin.App at 0x21e5dd26e40>"
      ]
     },
     "execution_count": 3,
     "metadata": {},
     "output_type": "execute_result"
    }
   ],
   "source": [
    "# Initialize Firebase Admin SDK with your credentials\n",
    "cred = credentials.Certificate(\"./serviceAccountKey.json\")\n",
    "firebase_admin.initialize_app(cred, {\n",
    "    'databaseURL': 'https://rvidastech-default-rtdb.firebaseio.com/'\n",
    "})"
   ]
  },
  {
   "cell_type": "code",
   "execution_count": 4,
   "id": "30c9def4-4b8e-454f-8b60-22329200f809",
   "metadata": {},
   "outputs": [],
   "source": [
    "def get_current_location():\n",
    "    location = geocoder.ip('me')\n",
    "    location_info = f\"LOCATION: {location.city}, {location.state}, {location.country}\\n\"\n",
    "    return location_info\n"
   ]
  },
  {
   "cell_type": "code",
   "execution_count": 5,
   "id": "0bb35659-d850-42ba-aa23-dcda797bc1f4",
   "metadata": {},
   "outputs": [],
   "source": [
    "def store_data_to_firebase(location_info, timeMoment, video_filename, filename):\n",
    "    ref = db.reference('violence_alerts')\n",
    "    ref.push({\n",
    "        'location': location_info,\n",
    "        'time': timeMoment,\n",
    "        'video_url': video_filename,\n",
    "        'image_url': filename\n",
    "    })\n"
   ]
  },
  {
   "cell_type": "code",
   "execution_count": 6,
   "id": "316e9e1c-b28f-46a5-ae15-2408bb870340",
   "metadata": {},
   "outputs": [],
   "source": [
    "def send_telegram_alert(location_info, timeMoment, video_filename, filename):\n",
    "    bot.sendMessage(-1002037531635, f\"VIOLENCE ALERT!!\\n{location_info}TIME: {timeMoment}\")\n",
    "    with open(video_filename, 'rb') as video_file:\n",
    "        bot.sendVideo(-1002037531635, video_file)\n",
    "    bot.sendPhoto(-1002037531635, photo=open(filename, 'rb'))\n"
   ]
  },
  {
   "cell_type": "code",
   "execution_count": 12,
   "id": "28a36480-1d40-4fde-a5e8-8c80a57c0f3a",
   "metadata": {},
   "outputs": [
    {
     "name": "stdout",
     "output_type": "stream",
     "text": [
      "Loading model ...\n"
     ]
    },
    {
     "name": "stderr",
     "output_type": "stream",
     "text": [
      "WARNING:absl:Compiled the loaded model, but the compiled metrics have yet to be built. `model.compile_metrics` will be empty until you train or evaluate the model.\n"
     ]
    },
    {
     "name": "stdout",
     "output_type": "stream",
     "text": [
      "[INFO] cleaning up...\n"
     ]
    }
   ],
   "source": [
    "import cv2\n",
    "import numpy as np\n",
    "import time\n",
    "from keras.models import load_model\n",
    "from keras.optimizers import Adam\n",
    "\n",
    "def get_current_location():\n",
    "    # Dummy implementation for example\n",
    "    return {\"lat\": \"40.7128 N\", \"long\": \"74.0060 W\"}\n",
    "\n",
    "def store_data_to_firebase(location_info, timeMoment, video_filename, filename):\n",
    "    # Dummy implementation for example\n",
    "    print(\"Storing data to Firebase\")\n",
    "\n",
    "def send_telegram_alert(location_info, timeMoment, video_filename, filename):\n",
    "    # Dummy implementation for example\n",
    "    print(\"Sending Telegram alert\")\n",
    "\n",
    "def print_results():\n",
    "    filename = 'savedImage.jpg'\n",
    "    video_filename = 'recordedVideo.avi'\n",
    "\n",
    "    # Get current location\n",
    "    location_info = get_current_location()\n",
    "\n",
    "    # Load pre-trained Keras model\n",
    "    print(\"Loading model ...\")\n",
    "    model = load_model('./modelnew.h5')\n",
    "\n",
    "    # Recompile the model if needed\n",
    "    model.compile(optimizer=Adam(), loss='binary_crossentropy', metrics=['accuracy'])\n",
    "\n",
    "    # Capture video from webcam\n",
    "    vs = cv2.VideoCapture(0)\n",
    "\n",
    "    # Check if webcam is opened successfully\n",
    "    if not vs.isOpened():\n",
    "        print(\"Error: Failed to open webcam.\")\n",
    "        return\n",
    "\n",
    "    # Get webcam dimensions\n",
    "    W = int(vs.get(cv2.CAP_PROP_FRAME_WIDTH))\n",
    "    H = int(vs.get(cv2.CAP_PROP_FRAME_HEIGHT))\n",
    "\n",
    "    # Initialize video writer\n",
    "    fourcc = cv2.VideoWriter_fourcc(*\"MJPG\")\n",
    "    writer = cv2.VideoWriter(video_filename, fourcc, 30, (W, H), True)\n",
    "\n",
    "    # Loop through video frames\n",
    "    while True:\n",
    "        grabbed, frame = vs.read()\n",
    "\n",
    "        if not grabbed:\n",
    "            break\n",
    "\n",
    "        output = frame.copy()\n",
    "\n",
    "        # Preprocess frame for model input\n",
    "        frame = cv2.cvtColor(frame, cv2.COLOR_BGR2RGB)\n",
    "        frame = cv2.resize(frame, (128, 128)).astype(\"float32\")\n",
    "        frame = frame.reshape(128, 128, 3) / 255.0\n",
    "\n",
    "        # Predict violence probability\n",
    "        preds = model.predict(np.expand_dims(frame, axis=0))[0]\n",
    "        label = (preds > 0.50)[0]  # Thresholding predictions\n",
    "\n",
    "        # Adding text to the output frame\n",
    "        text = \"Violence: {}\".format(label)\n",
    "        text_color = (0, 0, 255) if label else (0, 255, 0)\n",
    "        cv2.putText(output, text, (35, 50), cv2.FONT_HERSHEY_SIMPLEX, 1.25, text_color, 3)\n",
    "\n",
    "        # Write frame to output video\n",
    "        writer.write(output)\n",
    "\n",
    "        # Display output frame\n",
    "        cv2.imshow(\"Output\", output)\n",
    "\n",
    "        # Save image and send alert if violence detected\n",
    "        if label:\n",
    "            timeMoment = time.strftime(\"%H:%M:%S \\nDate %d-%m-%y\")\n",
    "            store_data_to_firebase(location_info, timeMoment, video_filename, filename)\n",
    "            send_telegram_alert(location_info, timeMoment, video_filename, filename)\n",
    "\n",
    "        # Check for key press to quit\n",
    "        key = cv2.waitKey(1) & 0xFF\n",
    "        if key == ord(\"q\"):\n",
    "            break\n",
    "\n",
    "    # Clean up\n",
    "    print(\"[INFO] cleaning up...\")\n",
    "    if writer is not None:\n",
    "        writer.release()\n",
    "    vs.release()\n",
    "    cv2.destroyAllWindows()\n",
    "\n",
    "print_results()\n"
   ]
  },
  {
   "cell_type": "code",
   "execution_count": null,
   "id": "2b185888-2a5d-4c18-aea1-4343e1b1a36d",
   "metadata": {},
   "outputs": [],
   "source": []
  }
 ],
 "metadata": {
  "kernelspec": {
   "display_name": "Python 3 (ipykernel)",
   "language": "python",
   "name": "python3"
  },
  "language_info": {
   "codemirror_mode": {
    "name": "ipython",
    "version": 3
   },
   "file_extension": ".py",
   "mimetype": "text/x-python",
   "name": "python",
   "nbconvert_exporter": "python",
   "pygments_lexer": "ipython3",
   "version": "3.12.3"
  }
 },
 "nbformat": 4,
 "nbformat_minor": 5
}
